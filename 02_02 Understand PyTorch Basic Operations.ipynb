{
 "cells": [
  {
   "cell_type": "code",
   "execution_count": 1,
   "id": "eb4a40c6",
   "metadata": {},
   "outputs": [],
   "source": [
    "import torch"
   ]
  },
  {
   "cell_type": "code",
   "execution_count": 2,
   "id": "0d5153fa",
   "metadata": {},
   "outputs": [
    {
     "name": "stdout",
     "output_type": "stream",
     "text": [
      "tensor([1., 2.])\n",
      "tensor([3., 4.])\n"
     ]
    }
   ],
   "source": [
    "# create 2 tensors\n",
    "u = torch.tensor([1.0, 2.0])\n",
    "v = torch.tensor([3.0, 4.0])\n",
    "\n",
    "print(u)\n",
    "print(v)"
   ]
  },
  {
   "cell_type": "code",
   "execution_count": 3,
   "id": "552cb174",
   "metadata": {},
   "outputs": [
    {
     "name": "stdout",
     "output_type": "stream",
     "text": [
      "tensor([4., 6.])\n",
      "tensor([-2., -2.])\n"
     ]
    }
   ],
   "source": [
    "# perform some addition and substraction\n",
    "print(u + v)\n",
    "print(u - v)"
   ]
  },
  {
   "cell_type": "code",
   "execution_count": 4,
   "id": "18fdac71",
   "metadata": {},
   "outputs": [
    {
     "name": "stdout",
     "output_type": "stream",
     "text": [
      "Common functions:\n",
      "tensor([[0.3668, 0.1359, 0.0176, 0.0322],\n",
      "        [0.1286, 0.4542, 0.9515, 0.1486]])\n",
      "tensor([[1., -0., -0., 1.],\n",
      "        [1., -0., 1., -0.]])\n",
      "tensor([[ 0., -1., -1.,  0.],\n",
      "        [ 0., -1.,  0., -1.]])\n",
      "tensor([[ 0.3668, -0.1359, -0.0176,  0.0322],\n",
      "        [ 0.1286, -0.4542,  0.5000, -0.1486]])\n"
     ]
    }
   ],
   "source": [
    "# try some common tensor functions\n",
    "a = torch.rand(2, 4) * 2 - 1\n",
    "print('Common functions:')\n",
    "print(torch.abs(a))\n",
    "print(torch.ceil(a))\n",
    "print(torch.floor(a))\n",
    "print(torch.clamp(a, -0.5, 0.5))"
   ]
  },
  {
   "cell_type": "code",
   "execution_count": 5,
   "id": "681df036",
   "metadata": {},
   "outputs": [
    {
     "name": "stdout",
     "output_type": "stream",
     "text": [
      "tensor([1., 2., 3., 4., 5.])\n",
      "tensor(3.)\n"
     ]
    }
   ],
   "source": [
    "# reduction function using mean\n",
    "x = torch.tensor([1, 2, 3, 4, 5], dtype=torch.float32)\n",
    "print(x)\n",
    "print(x.mean())"
   ]
  },
  {
   "cell_type": "code",
   "execution_count": 6,
   "id": "cb162bb0",
   "metadata": {},
   "outputs": [
    {
     "name": "stdout",
     "output_type": "stream",
     "text": [
      "tensor(5.)\n",
      "tensor(1.)\n"
     ]
    }
   ],
   "source": [
    "# more reduction function using min and max\n",
    "print(x.max())\n",
    "print(x.min())"
   ]
  },
  {
   "cell_type": "code",
   "execution_count": 7,
   "id": "8856bb86",
   "metadata": {},
   "outputs": [
    {
     "name": "stdout",
     "output_type": "stream",
     "text": [
      "tensor([0.0000, 1.5708, 3.1416])\n",
      "tensor([ 0.0000e+00,  1.0000e+00, -8.7423e-08])\n",
      "tensor([ 1.0000e+00, -4.3711e-08, -1.0000e+00])\n"
     ]
    }
   ],
   "source": [
    "# trigonometric functions and their inverses\n",
    "import numpy as np\n",
    "\n",
    "x = torch.tensor([0, np.pi / 2, np.pi])\n",
    "print(x)\n",
    "print(torch.sin(x))\n",
    "print(torch.cos(x))"
   ]
  },
  {
   "cell_type": "code",
   "execution_count": 8,
   "id": "819a214c",
   "metadata": {},
   "outputs": [
    {
     "name": "stdout",
     "output_type": "stream",
     "text": [
      "tensor([-1.5708, -1.5677, -1.5645, -1.5614, -1.5582])\n",
      "tensor([1.5582, 1.5614, 1.5645, 1.5677, 1.5708])\n",
      "tensor([-1.0000, -1.0000, -1.0000, -1.0000, -0.9999])\n",
      "tensor([-4.3711e-08,  3.1447e-03,  6.2894e-03,  9.4340e-03,  1.2579e-02])\n"
     ]
    }
   ],
   "source": [
    "# get an evenly spaced list of numbers between a range\n",
    "pi = torch.linspace(-np.pi/2, np.pi/2, steps=1000)\n",
    "print(pi[:5])  # lower bound\n",
    "print(pi[-5:]) # upper bound\n",
    "\n",
    "sined = torch.sin(pi)\n",
    "cosed = torch.cos(pi)\n",
    "print(sined[0:5])\n",
    "print(cosed[0:5])"
   ]
  },
  {
   "cell_type": "code",
   "execution_count": 9,
   "id": "4df2ae43",
   "metadata": {},
   "outputs": [
    {
     "data": {
      "image/png": "[encoded data removed]",
      "text/plain": [
       "<Figure size 432x288 with 1 Axes>"
      ]
     },
     "metadata": {
      "needs_background": "light"
     },
     "output_type": "display_data"
    }
   ],
   "source": [
    "# use matplotlib to visualize\n",
    "import matplotlib.pyplot as plt\n",
    "\n",
    "plt.plot(sined, label=\"sined\")\n",
    "plt.plot(cosed, label=\"cosed\")\n",
    "plt.legend()\n",
    "plt.show()"
   ]
  },
  {
   "cell_type": "code",
   "execution_count": null,
   "id": "2fac6795",
   "metadata": {},
   "outputs": [],
   "source": []
  }
 ],
 "metadata": {
  "kernelspec": {
   "display_name": "Python 3 (ipykernel)",
   "language": "python",
   "name": "python3"
  },
  "language_info": {
   "codemirror_mode": {
    "name": "ipython",
    "version": 3
   },
   "file_extension": ".py",
   "mimetype": "text/x-python",
   "name": "python",
   "nbconvert_exporter": "python",
   "pygments_lexer": "ipython3",
   "version": "3.9.7"
  }
 },
 "nbformat": 4,
 "nbformat_minor": 5
}
