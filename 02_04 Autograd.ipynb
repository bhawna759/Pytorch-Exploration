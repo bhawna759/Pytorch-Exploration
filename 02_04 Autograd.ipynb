{
 "cells": [
  {
   "cell_type": "code",
   "execution_count": 1,
   "id": "05ab72f3",
   "metadata": {},
   "outputs": [],
   "source": [
    "import torch\n",
    "from torch.autograd import Variable"
   ]
  },
  {
   "cell_type": "code",
   "execution_count": 2,
   "id": "8202eefc",
   "metadata": {},
   "outputs": [
    {
     "name": "stdout",
     "output_type": "stream",
     "text": [
      "tensor([[1., 1.],\n",
      "        [1., 1.]], requires_grad=True)\n"
     ]
    }
   ],
   "source": [
    "x = Variable(torch.ones(2, 2), requires_grad=True)\n",
    "print(x)"
   ]
  },
  {
   "cell_type": "code",
   "execution_count": 3,
   "id": "9c8f20dc",
   "metadata": {},
   "outputs": [
    {
     "name": "stdout",
     "output_type": "stream",
     "text": [
      "tensor([[3., 3.],\n",
      "        [3., 3.]], grad_fn=<AddBackward0>)\n"
     ]
    }
   ],
   "source": [
    "y = x + 2\n",
    "print(y)"
   ]
  },
  {
   "cell_type": "code",
   "execution_count": 4,
   "id": "e764a823",
   "metadata": {},
   "outputs": [
    {
     "name": "stdout",
     "output_type": "stream",
     "text": [
      "<AddBackward0 object at 0x00000211C09DB730>\n"
     ]
    }
   ],
   "source": [
    "print(y.grad_fn)"
   ]
  },
  {
   "cell_type": "code",
   "execution_count": 10,
   "id": "8931c408",
   "metadata": {},
   "outputs": [
    {
     "name": "stdout",
     "output_type": "stream",
     "text": [
      "tensor([[27., 27.],\n",
      "        [27., 27.]], grad_fn=<MulBackward0>) tensor(27., grad_fn=<MeanBackward0>)\n"
     ]
    }
   ],
   "source": [
    "z = y * y * 3\n",
    "out = z.mean()\n",
    "print(z, out)"
   ]
  },
  {
   "cell_type": "code",
   "execution_count": 11,
   "id": "dfc89a45",
   "metadata": {},
   "outputs": [
    {
     "name": "stdout",
     "output_type": "stream",
     "text": [
      "tensor([[27., 27.],\n",
      "        [27., 27.]], grad_fn=<MulBackward0>)\n"
     ]
    }
   ],
   "source": [
    "print(z)"
   ]
  },
  {
   "cell_type": "code",
   "execution_count": 12,
   "id": "520dfd1f",
   "metadata": {},
   "outputs": [
    {
     "name": "stdout",
     "output_type": "stream",
     "text": [
      "tensor(27., grad_fn=<MeanBackward0>)\n"
     ]
    }
   ],
   "source": [
    "print(out)"
   ]
  },
  {
   "cell_type": "code",
   "execution_count": 6,
   "id": "f721c1ad",
   "metadata": {},
   "outputs": [],
   "source": [
    "out.backward()"
   ]
  },
  {
   "cell_type": "code",
   "execution_count": 8,
   "id": "d5f34c93",
   "metadata": {},
   "outputs": [
    {
     "name": "stdout",
     "output_type": "stream",
     "text": [
      "tensor([[1., 1.],\n",
      "        [1., 1.]], requires_grad=True)\n"
     ]
    }
   ],
   "source": [
    "print(x)"
   ]
  },
  {
   "cell_type": "code",
   "execution_count": 9,
   "id": "12e753f4",
   "metadata": {},
   "outputs": [
    {
     "name": "stdout",
     "output_type": "stream",
     "text": [
      "tensor([[4.5000, 4.5000],\n",
      "        [4.5000, 4.5000]])\n"
     ]
    }
   ],
   "source": [
    "print(x.grad)"
   ]
  },
  {
   "cell_type": "markdown",
   "id": "e423d2b5",
   "metadata": {},
   "source": [
    "The Chain Rule:\n",
    "\n",
    "The chain rule is a fundamental concept in calculus that allows us to efficiently compute the derivative of a composite function. It states that the derivative of a composite function w(u(x)) can be found by multiplying the derivative of the outer function w evaluated at the inner function u(x) with the derivative of the inner function u(x):\n",
    "\n",
    "dw/dx = dw/du * du/dx\n",
    "\n",
    "Applying the Chain Rule:\n",
    "\n",
    "In your code, let's assume the following (we don't see the exact calculation of y):\n",
    "\n",
    "x is a 2x2 tensor with elements x_ij (i representing the row index and j representing the column index).\n",
    "y is another 2x2 tensor with elements y_ij calculated as y_ij = x_ij + 2.\n",
    "The final output you're interested in is the gradient of the loss out with respect to each element in x (i.e., the elements of x.grad). Here's how we can apply the chain rule:\n",
    "\n",
    "1. Loss Function (Outer Function):\n",
    "\n",
    "Let's assume a common loss function used in neural networks, the mean squared error (MSE):\n",
    "\n",
    "loss (out) = 1/n * sum((out - target)^2)\n",
    "\n",
    "where n is the number of elements in out (in this case, 1 since it's a scalar) and target is the desired output value (which might be a constant or another tensor depending on the specific task).\n",
    "\n",
    "The derivative of the MSE loss function with respect to out is simply:\n",
    "\n",
    "d (loss) / d (out) = 2/n * (out - target)\n",
    "\n",
    "2. out (Inner Function):\n",
    "\n",
    "out is calculated as the mean of the elements in z:\n",
    "\n",
    "out = 1/4 * sum(z_ij)\n",
    "\n",
    "where z_ij represents an element in the 2x2 tensor z.\n",
    "\n",
    "The derivative of out with respect to each element z_ij in z is simply:\n",
    "\n",
    "d (out) / d (z_ij) = 1/4 (since all elements in z contribute equally to the mean)\n",
    "\n",
    "3. z (Inner Function):\n",
    "\n",
    "Each element z_ij in z is calculated as:\n",
    "\n",
    "z_ij = 3 * (y_ij)^2\n",
    "\n",
    "The derivative of z_ij with respect to y_ij is:\n",
    "\n",
    "d (z_ij) / d (y_ij) = 6 * y_ij\n",
    "\n",
    "4. y (Inner Function):\n",
    "\n",
    "Each element y_ij in y is related to x_ij through:\n",
    "\n",
    "y_ij = x_ij + 2\n",
    "\n",
    "The derivative of y_ij with respect to x_ij is simply:\n",
    "\n",
    "d (y_ij) / d (x_ij) = 1\n",
    "\n",
    "Putting It Together:\n",
    "\n",
    "Now, we can use the chain rule to compute the gradient of the loss out with respect to each element x_ij in x:\n",
    "\n",
    "d (loss) / d (x_ij) = d (loss) / d (out) * d (out) / d (z_ij) * d (z_ij) / d (y_ij) * d (y_ij) / d (x_ij)\n",
    "\n",
    "                      = (2/n * (out - target)) * (1/4) * (6 * y_ij) * 1\n",
    "\n",
    "                      = (3 * (out - target) * y_ij) / n\n",
    "Note: This is the general form of the gradient for each element in x. The specific values in y_ij (which depend on the initial value of x_ij) and the target value in the loss function would determine the final numerical values in x.grad."
   ]
  }
 ],
 "metadata": {
  "kernelspec": {
   "display_name": "Python 3 (ipykernel)",
   "language": "python",
   "name": "python3"
  },
  "language_info": {
   "codemirror_mode": {
    "name": "ipython",
    "version": 3
   },
   "file_extension": ".py",
   "mimetype": "text/x-python",
   "name": "python",
   "nbconvert_exporter": "python",
   "pygments_lexer": "ipython3",
   "version": "3.9.7"
  }
 },
 "nbformat": 4,
 "nbformat_minor": 5
}
