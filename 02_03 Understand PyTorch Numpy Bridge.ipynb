{
 "cells": [
  {
   "cell_type": "code",
   "execution_count": 2,
   "id": "8cfc8afe",
   "metadata": {},
   "outputs": [],
   "source": [
    "import torch"
   ]
  },
  {
   "cell_type": "code",
   "execution_count": 3,
   "id": "924a04d3",
   "metadata": {},
   "outputs": [
    {
     "name": "stdout",
     "output_type": "stream",
     "text": [
      "tensor([ 2, 16])\n",
      "torch.Size([2])\n",
      "1\n"
     ]
    }
   ],
   "source": [
    "# simple operation rehash\n",
    "u = torch.tensor([2, 4])\n",
    "v = torch.tensor([1, 4])\n",
    "w = u * v\n",
    "print(w)\n",
    "print(w.shape)\n",
    "print(w.ndim)"
   ]
  },
  {
   "cell_type": "code",
   "execution_count": 4,
   "id": "72959981",
   "metadata": {},
   "outputs": [
    {
     "name": "stdout",
     "output_type": "stream",
     "text": [
      "tensor([[[1., 1.],\n",
      "         [1., 1.],\n",
      "         [1., 1.]],\n",
      "\n",
      "        [[1., 1.],\n",
      "         [1., 1.],\n",
      "         [1., 1.]],\n",
      "\n",
      "        [[1., 1.],\n",
      "         [1., 1.],\n",
      "         [1., 1.]],\n",
      "\n",
      "        [[1., 1.],\n",
      "         [1., 1.],\n",
      "         [1., 1.]]])\n",
      "tensor([[0.6671, 0.1449],\n",
      "        [0.2843, 0.7691],\n",
      "        [0.7278, 0.6361]])\n",
      "tensor([[[0.6671, 0.1449],\n",
      "         [0.2843, 0.7691],\n",
      "         [0.7278, 0.6361]],\n",
      "\n",
      "        [[0.6671, 0.1449],\n",
      "         [0.2843, 0.7691],\n",
      "         [0.7278, 0.6361]],\n",
      "\n",
      "        [[0.6671, 0.1449],\n",
      "         [0.2843, 0.7691],\n",
      "         [0.7278, 0.6361]],\n",
      "\n",
      "        [[0.6671, 0.1449],\n",
      "         [0.2843, 0.7691],\n",
      "         [0.7278, 0.6361]]])\n"
     ]
    }
   ],
   "source": [
    "# broadcasting rules \n",
    "a =     torch.ones(4, 3, 2)\n",
    "a2 = torch.rand(   3, 2)\n",
    "b = a * a2 # 3rd & 2nd dims identical to a, dim 1 absent\n",
    "print(a)\n",
    "print(a2)\n",
    "print(b)"
   ]
  },
  {
   "cell_type": "code",
   "execution_count": 5,
   "id": "af224367",
   "metadata": {},
   "outputs": [
    {
     "name": "stdout",
     "output_type": "stream",
     "text": [
      "tensor([[[0.7302, 0.7302],\n",
      "         [0.2413, 0.2413],\n",
      "         [0.3209, 0.3209]],\n",
      "\n",
      "        [[0.7302, 0.7302],\n",
      "         [0.2413, 0.2413],\n",
      "         [0.3209, 0.3209]],\n",
      "\n",
      "        [[0.7302, 0.7302],\n",
      "         [0.2413, 0.2413],\n",
      "         [0.3209, 0.3209]],\n",
      "\n",
      "        [[0.7302, 0.7302],\n",
      "         [0.2413, 0.2413],\n",
      "         [0.3209, 0.3209]]])\n"
     ]
    }
   ],
   "source": [
    "c = a * torch.rand(   3, 1) # 3rd dim = 1, 2nd dim identical to a\n",
    "print(c)"
   ]
  },
  {
   "cell_type": "code",
   "execution_count": 6,
   "id": "5d94717e",
   "metadata": {},
   "outputs": [
    {
     "name": "stdout",
     "output_type": "stream",
     "text": [
      "tensor([[[0.0936, 0.9268],\n",
      "         [0.0936, 0.9268],\n",
      "         [0.0936, 0.9268]],\n",
      "\n",
      "        [[0.0936, 0.9268],\n",
      "         [0.0936, 0.9268],\n",
      "         [0.0936, 0.9268]],\n",
      "\n",
      "        [[0.0936, 0.9268],\n",
      "         [0.0936, 0.9268],\n",
      "         [0.0936, 0.9268]],\n",
      "\n",
      "        [[0.0936, 0.9268],\n",
      "         [0.0936, 0.9268],\n",
      "         [0.0936, 0.9268]]])\n"
     ]
    }
   ],
   "source": [
    "d = a * torch.rand(   1, 2) # 3rd dim identical to a, 2nd dim = 1\n",
    "print(d)"
   ]
  },
  {
   "cell_type": "code",
   "execution_count": 11,
   "id": "f797b83a",
   "metadata": {},
   "outputs": [
    {
     "name": "stdout",
     "output_type": "stream",
     "text": [
      "[[1 1 1]\n",
      " [1 1 1]]\n",
      "tensor([[1, 1, 1],\n",
      "        [1, 1, 1]], dtype=torch.int32)\n"
     ]
    }
   ],
   "source": [
    "# switch between ndarrays and PyTorch tensors\n",
    "import numpy as np\n",
    "numpy_array = np.ones((2, 3),dtype=int)\n",
    "print(numpy_array)\n",
    "\n",
    "pytorch_tensor = torch.from_numpy(numpy_array)\n",
    "print(pytorch_tensor)"
   ]
  },
  {
   "cell_type": "code",
   "execution_count": 19,
   "id": "ed8ab5a0",
   "metadata": {},
   "outputs": [
    {
     "name": "stdout",
     "output_type": "stream",
     "text": [
      "tensor([[0.4111, 0.0874, 0.6247],\n",
      "        [0.6761, 0.6112, 0.7817]])\n",
      "[[0.41109467 0.0873512  0.624653  ]\n",
      " [0.67608976 0.61122954 0.78165585]]\n"
     ]
    }
   ],
   "source": [
    "# reverse example of converting from PyTorch tensor into ndarray\n",
    "pytorch_rand = torch.rand(2, 3)\n",
    "print(pytorch_rand)\n",
    "\n",
    "numpy_rand = pytorch_rand.numpy()\n",
    "print(numpy_rand)"
   ]
  },
  {
   "cell_type": "code",
   "execution_count": 9,
   "id": "4f649e49",
   "metadata": {},
   "outputs": [
    {
     "name": "stdout",
     "output_type": "stream",
     "text": [
      "tensor([[ 1.,  1.,  1.],\n",
      "        [ 1., 23.,  1.]], dtype=torch.float64)\n",
      "[[ 0.82105994  0.7738307   0.59401256]\n",
      " [ 0.35285002 17.          0.8489097 ]]\n"
     ]
    }
   ],
   "source": [
    "# using the same underlying memory\n",
    "numpy_array[1, 1] = 23\n",
    "print(pytorch_tensor)\n",
    "\n",
    "pytorch_rand[1, 1] = 17\n",
    "print(numpy_rand)"
   ]
  },
  {
   "cell_type": "code",
   "execution_count": 12,
   "id": "9f3285d3",
   "metadata": {},
   "outputs": [
    {
     "name": "stdout",
     "output_type": "stream",
     "text": [
      "(2, 3)\n",
      "2\n"
     ]
    }
   ],
   "source": [
    "print(numpy_rand.shape)\n",
    "print(numpy_rand.ndim)"
   ]
  },
  {
   "cell_type": "code",
   "execution_count": 13,
   "id": "86af7d2b",
   "metadata": {},
   "outputs": [
    {
     "name": "stdout",
     "output_type": "stream",
     "text": [
      "[[1 1 1]\n",
      " [1 1 1]]\n"
     ]
    }
   ],
   "source": [
    "import numpy as np\n",
    "numpy_array = np.ones((2, 3),dtype=int)\n",
    "print(numpy_array)\n"
   ]
  },
  {
   "cell_type": "code",
   "execution_count": 14,
   "id": "6efb7863",
   "metadata": {},
   "outputs": [],
   "source": [
    "# using the same underlying memory\n",
    "numpy_array[1, 1] = 23"
   ]
  },
  {
   "cell_type": "code",
   "execution_count": 17,
   "id": "aaedbc8e",
   "metadata": {},
   "outputs": [
    {
     "name": "stdout",
     "output_type": "stream",
     "text": [
      "[[ 1  1  1]\n",
      " [ 1 23  1]]\n",
      "tensor([[1, 1, 1],\n",
      "        [1, 1, 1]], dtype=torch.int32)\n"
     ]
    }
   ],
   "source": [
    "print(numpy_array)"
   ]
  },
  {
   "cell_type": "code",
   "execution_count": 18,
   "id": "7d64a171",
   "metadata": {},
   "outputs": [
    {
     "name": "stdout",
     "output_type": "stream",
     "text": [
      "tensor([[ 1,  1,  1],\n",
      "        [ 1, 23,  1]], dtype=torch.int32)\n"
     ]
    }
   ],
   "source": [
    "pytorch_tensor = torch.from_numpy(numpy_array)\n",
    "print(pytorch_tensor)"
   ]
  },
  {
   "cell_type": "code",
   "execution_count": 20,
   "id": "b4f0ac45",
   "metadata": {},
   "outputs": [
    {
     "name": "stdout",
     "output_type": "stream",
     "text": [
      "[[ 0.41109467  0.0873512   0.624653  ]\n",
      " [ 0.67608976 17.          0.78165585]]\n"
     ]
    }
   ],
   "source": [
    "pytorch_rand[1, 1] = 17\n",
    "print(numpy_rand)"
   ]
  },
  {
   "cell_type": "code",
   "execution_count": 26,
   "id": "192b7c0c",
   "metadata": {},
   "outputs": [],
   "source": [
    "pytorch_rand = torch.rand(2,3)"
   ]
  },
  {
   "cell_type": "code",
   "execution_count": 27,
   "id": "f93f3733",
   "metadata": {},
   "outputs": [
    {
     "name": "stdout",
     "output_type": "stream",
     "text": [
      "tensor([[0.5879, 0.7492, 0.4975],\n",
      "        [0.8377, 0.0698, 0.5016]])\n"
     ]
    }
   ],
   "source": [
    "print(pytorch_rand)"
   ]
  },
  {
   "cell_type": "code",
   "execution_count": 30,
   "id": "691a46c5",
   "metadata": {},
   "outputs": [
    {
     "name": "stdout",
     "output_type": "stream",
     "text": [
      "tensor([[0.5879, 0.7492, 0.4975],\n",
      "        [0.8377, 0.0698, 0.5016]])\n"
     ]
    }
   ],
   "source": [
    "print(pytorch_rand)"
   ]
  },
  {
   "cell_type": "code",
   "execution_count": 28,
   "id": "9c61c991",
   "metadata": {},
   "outputs": [],
   "source": [
    "rand_numpy=pytorch_rand.numpy()"
   ]
  },
  {
   "cell_type": "code",
   "execution_count": 29,
   "id": "ea06255c",
   "metadata": {},
   "outputs": [
    {
     "name": "stdout",
     "output_type": "stream",
     "text": [
      "[[0.5879215 0.7491546 0.4975205]\n",
      " [0.8377004 0.0697549 0.5016138]]\n"
     ]
    }
   ],
   "source": [
    "print(rand_numpy)"
   ]
  },
  {
   "cell_type": "code",
   "execution_count": 31,
   "id": "4f6e8aac",
   "metadata": {},
   "outputs": [
    {
     "name": "stdout",
     "output_type": "stream",
     "text": [
      "[[0.5879215 0.7491546 0.4975205]\n",
      " [0.8377004 3.        0.5016138]]\n"
     ]
    }
   ],
   "source": [
    "pytorch_rand[1,1]=3\n",
    "print(rand_numpy)"
   ]
  },
  {
   "cell_type": "code",
   "execution_count": null,
   "id": "558e516f",
   "metadata": {},
   "outputs": [],
   "source": []
  }
 ],
 "metadata": {
  "kernelspec": {
   "display_name": "Python 3 (ipykernel)",
   "language": "python",
   "name": "python3"
  },
  "language_info": {
   "codemirror_mode": {
    "name": "ipython",
    "version": 3
   },
   "file_extension": ".py",
   "mimetype": "text/x-python",
   "name": "python",
   "nbconvert_exporter": "python",
   "pygments_lexer": "ipython3",
   "version": "3.9.7"
  }
 },
 "nbformat": 4,
 "nbformat_minor": 5
}
